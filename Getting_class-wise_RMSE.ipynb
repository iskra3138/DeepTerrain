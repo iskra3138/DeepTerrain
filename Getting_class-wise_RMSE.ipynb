{
 "cells": [
  {
   "cell_type": "code",
   "execution_count": 1,
   "id": "4f1bbf33-46bb-4062-b740-b4ca465b3a2c",
   "metadata": {},
   "outputs": [],
   "source": [
    "import os\n",
    "import scipy.io as sio\n",
    "import numpy as np"
   ]
  },
  {
   "cell_type": "markdown",
   "id": "4dddb081-d8b3-41c3-a804-e692887b7b17",
   "metadata": {},
   "source": [
    "# NB"
   ]
  },
  {
   "cell_type": "code",
   "execution_count": 2,
   "id": "55105cc2-59f6-49ad-b248-15275e2d499c",
   "metadata": {},
   "outputs": [],
   "source": [
    "NB_keys = ['ground', 'low_vegetation', 'medium_vegetation', 'high_vegetation', 'building', 'others']"
   ]
  },
  {
   "cell_type": "code",
   "execution_count": 3,
   "id": "c188fa98-247b-4f47-b78f-70f12c5804bf",
   "metadata": {},
   "outputs": [],
   "source": [
    "def get_classwise_RMSE (keys, seg, pred, gt) :\n",
    "    label_dics = {'ground': 2, \n",
    "              'low_vegetation': 3, \n",
    "              'medium_vegetation': 4,\n",
    "              'high_vegetation': 5,\n",
    "              'building': 6,\n",
    "              'others': 0}\n",
    "\n",
    "    total_num = gt.shape[0] * gt.shape[1]\n",
    "    \n",
    "    others_index = np.ones_like(seg)\n",
    "    rmse_dict = {}\n",
    "    occup_dict = {}\n",
    "    \n",
    "    RMSE = np.sqrt(np.mean((pred - gt)**2))\n",
    "    rmse_dict['total'] = np.round(RMSE, 2)\n",
    "    \n",
    "    # class-wise results\n",
    "    for key in keys :\n",
    "        #if key == 'ground' :\n",
    "        #    mask = np.where((seg == 2) | (seg==8))\n",
    "        #    num = mask[0].shape[0]\n",
    "        #    others_index[mask] = 0\n",
    "        if key == 'others' :\n",
    "            mask = np.where(others_index == 1)\n",
    "            num = mask[0].shape[0]\n",
    "        else :\n",
    "            label = label_dics[key]\n",
    "            mask = np.where(seg == label)\n",
    "            num = mask[0].shape[0]\n",
    "            others_index[mask] = 0\n",
    "        if not num == 0 :\n",
    "            RMSE_cls = np.sqrt(np.mean((pred[mask] - gt[mask])**2))\n",
    "        else :\n",
    "            RMSE_cls = 0\n",
    "        \n",
    "        rmse_dict[key] = np.round(RMSE_cls, 2)\n",
    "        occup_dict[key] = np.round(100*num/total_num, 2)\n",
    "        \n",
    "    return rmse_dict, occup_dict\n",
    "        "
   ]
  },
  {
   "cell_type": "code",
   "execution_count": 7,
   "id": "68eb91ab-bb41-491d-8724-208b3bfe6948",
   "metadata": {},
   "outputs": [],
   "source": [
    "# NB\n",
    "with open('/nas2/YJ/DATA/ALS2DTM/splits/NB-test.tiles', 'r') as f :\n",
    "    lines = f.readlines()\n",
    "\n",
    "MAT_ROOT = '/nas2/YJ/DATA/ALS2DTM/NB'\n",
    "PRED_ROOT = '/nas2/YJ/git/DeepTerRa_pix2pix/results/NB_Elevs_b32_lr0.01_e300_700/'\n",
    "\n",
    "RMSE = 0\n",
    "\n",
    "with open(os.path.join(PRED_ROOT, 'classwise_resuts_NB_elevs.csv'), 'w') as f : \n",
    "    f.write('filename,total,ground,low_vegetation,medium_vegetation,high_vegetation,building,others,ground,low_vegetation,medium_vegetation,high_vegetation,building,others\\n')\n",
    "    for line in lines :\n",
    "        str1, str2 = line.strip().split('_')\n",
    "        matfilename = 'nb_2018_{}00_{}00.mat'.format(str1, str2)\n",
    "\n",
    "        matfile = os.path.join(MAT_ROOT, matfilename)\n",
    "        mat = sio.loadmat(matfile)\n",
    "        dtm = mat['dtm']\n",
    "        seg = mat['semantics']\n",
    "\n",
    "        h, w = dtm.shape\n",
    "\n",
    "        left = (512 - h) //2\n",
    "        top = (512 - w) //2\n",
    "\n",
    "        npyfile = os.path.join(PRED_ROOT, matfilename.replace('mat', 'npy'))\n",
    "        pred = np.load(npyfile) [left:left+h, top:top+w]\n",
    "\n",
    "        rmse_dict, occup_dict = get_classwise_RMSE (NB_keys, seg, pred, dtm)\n",
    "        \n",
    "        msg = matfilename + ',' + str(rmse_dict['total'])\n",
    "        for key in NB_keys : \n",
    "            msg+= ',' + str(rmse_dict[key])\n",
    "        for key in NB_keys :\n",
    "            msg += ',' + str(occup_dict[key])\n",
    "        msg += '\\n'\n",
    "        f.write(msg)\n",
    "        #print (matfilename, rmse_dict, occup_dict)"
   ]
  },
  {
   "cell_type": "markdown",
   "id": "f84843e9-9df8-4112-93c6-b9b49e3723df",
   "metadata": {},
   "source": [
    "# DALES\n",
    "- ground(1), vegetation(2), cars(3), trucks(4), power lines(5), fences(6), poles(7) and buildings(8)."
   ]
  },
  {
   "cell_type": "code",
   "execution_count": 2,
   "id": "d59a025c-b105-4361-ab9d-1ccb22294171",
   "metadata": {},
   "outputs": [],
   "source": [
    "DALES_keys = ['ground', 'vegetation', 'cars', 'trucks', 'power_lines', 'fences', 'poles', 'buildings', 'others']"
   ]
  },
  {
   "cell_type": "code",
   "execution_count": 3,
   "id": "1d07f4fc-c41f-438f-9b6e-930f0236fb78",
   "metadata": {},
   "outputs": [],
   "source": [
    "def get_classwise_RMSE_DALES (keys, seg, pred, gt) :\n",
    "    label_dics = {'ground': 1, \n",
    "                  'vegetation': 2,\n",
    "                  'cars': 3,\n",
    "                  'trucks': 4,\n",
    "                  'power_lines': 5,\n",
    "                  'fences': 6,\n",
    "                  'poles': 7,\n",
    "                  'buildings': 8,\n",
    "                  'others': 0}\n",
    "\n",
    "    total_num = gt.shape[0] * gt.shape[1]\n",
    "    \n",
    "    others_index = np.ones_like(seg)\n",
    "    rmse_dict = {}\n",
    "    occup_dict = {}\n",
    "    \n",
    "    RMSE = np.sqrt(np.mean((pred - gt)**2))\n",
    "    rmse_dict['total'] = np.round(RMSE, 2)\n",
    "    \n",
    "    # class-wise results\n",
    "    for key in keys :\n",
    "        #if key == 'ground' :\n",
    "        #    mask = np.where((seg == 2) | (seg==8))\n",
    "        #    num = mask[0].shape[0]\n",
    "        #    others_index[mask] = 0\n",
    "        #if key == 'others' :\n",
    "        #    mask = np.where(others_index == 1)\n",
    "        #    num = mask[0].shape[0]\n",
    "        #else :\n",
    "        label = label_dics[key]\n",
    "        mask = np.where(seg == label)\n",
    "        num = mask[0].shape[0]\n",
    "        others_index[mask] = 0\n",
    "        if not num == 0 :\n",
    "            RMSE_cls = np.sqrt(np.mean((pred[mask] - gt[mask])**2))\n",
    "        else :\n",
    "            RMSE_cls = 0\n",
    "        \n",
    "        rmse_dict[key] = np.round(RMSE_cls, 2)\n",
    "        occup_dict[key] = np.round(100*num/total_num, 2)\n",
    "        \n",
    "    return rmse_dict, occup_dict\n",
    "        "
   ]
  },
  {
   "cell_type": "code",
   "execution_count": 7,
   "id": "c4609dbc-770f-4e2a-98b4-5967269ca384",
   "metadata": {},
   "outputs": [],
   "source": [
    "with open('/nas2/YJ/DATA/ALS2DTM/splits/DALES-test.tiles', 'r') as f :\n",
    "    lines = f.readlines()\n",
    "\n",
    "NPY_ROOT = '/nas2/YJ/DATA/ALS2DTM/DALESDSP/test/'\n",
    "PRED_ROOT = '/nas2/YJ/git/DeepTerRa_pix2pix/results/DALESDSP_Mean_b32_lr0.01_e300_700/'\n",
    "\n",
    "#rasters = [ 'voxel-top',  'voxel-bottom', 'pixel-mean', 'density', 'stdev', 'echoes']\n",
    "\n",
    "with open(os.path.join(PRED_ROOT, 'classwise_resuts_dales_downsampling_Mean.csv'), 'w') as f : \n",
    "    header = 'filename, total'\n",
    "    for key in DALES_keys :\n",
    "        header += ',' + key\n",
    "    for key in DALES_keys :\n",
    "        header += ',' + key\n",
    "    header += '\\n'\n",
    "    f.write(header)\n",
    "    \n",
    "    for line in lines :\n",
    "        for i in range(4) :\n",
    "            for j in range(4) :\n",
    "                str1, str2 = line.strip().split('_')\n",
    "                npyfilename = '{}_{}_{}_{}.npy'.format(str1, str2, i, j)\n",
    "                dtm = np.load(os.path.join(NPY_ROOT, 'dtm', npyfilename))\n",
    "                seg = np.load(os.path.join(NPY_ROOT, 'semantics', npyfilename))\n",
    "                \n",
    "                h, w = dtm.shape\n",
    "\n",
    "                left = (512 - h) //2\n",
    "                top = (512 - w) //2\n",
    "\n",
    "                npyfile = os.path.join(PRED_ROOT, npyfilename)\n",
    "                pred = np.load(npyfile) [left:left+h, top:top+w]\n",
    "\n",
    "                rmse_dict, occup_dict = get_classwise_RMSE_DALES(DALES_keys, seg, pred, dtm)\n",
    "\n",
    "                msg = npyfilename + ',' + str(rmse_dict['total'])\n",
    "                for key in DALES_keys : \n",
    "                    msg+= ',' + str(rmse_dict[key])\n",
    "                for key in DALES_keys :\n",
    "                    msg += ',' + str(occup_dict[key])\n",
    "                msg += '\\n'\n",
    "                f.write(msg)"
   ]
  },
  {
   "cell_type": "code",
   "execution_count": null,
   "id": "68781033-c50b-4e8b-899a-34165c2dfcd6",
   "metadata": {},
   "outputs": [],
   "source": []
  },
  {
   "cell_type": "code",
   "execution_count": null,
   "id": "96c55309-377d-4e3b-8fca-a2c23504165c",
   "metadata": {},
   "outputs": [],
   "source": []
  },
  {
   "cell_type": "code",
   "execution_count": null,
   "id": "2ef525c2-6d26-4d10-ba88-02b86327f016",
   "metadata": {},
   "outputs": [],
   "source": []
  },
  {
   "cell_type": "code",
   "execution_count": null,
   "id": "5778f94e-c2ed-4ff0-845b-c946830b2beb",
   "metadata": {},
   "outputs": [],
   "source": []
  },
  {
   "cell_type": "code",
   "execution_count": 70,
   "id": "f9feff90-9374-4e7b-98f9-af5230a5fc31",
   "metadata": {},
   "outputs": [],
   "source": [
    "def get_rmse(dtm, pred) :\n",
    "\n",
    "    h, w = dtm.shape\n",
    "    \n",
    "    diff_x = 512 - h\n",
    "    diff_y = 512 - w\n",
    "    left = diff_x // 2\n",
    "    top = diff_y // 2\n",
    "    \n",
    "    results = np.zeros((left+1, top+1))\n",
    "    for i in range (left+1) :\n",
    "        for j in range (top +1) :\n",
    "            results[i, j] = np.sqrt(np.mean((dtm - pred[i:i+h, j : j+w])**2))\n",
    "    \n",
    "    print (np.unravel_index(np.argmin(results, axis=None), results.shape), (left, top), results.min(), results[left, top])\n",
    "    return results[left, top]"
   ]
  },
  {
   "cell_type": "code",
   "execution_count": 76,
   "id": "334a6d60-5a9e-420f-aea5-ed1346b43b02",
   "metadata": {},
   "outputs": [
    {
     "name": "stdout",
     "output_type": "stream",
     "text": [
      "(6, 6) (7, 6) 2.546346664428711 2.551379919052124\n",
      "(7, 6) (7, 6) 0.19417621195316315 0.19417621195316315\n",
      "(7, 6) (7, 6) 1.1636289358139038 1.1636289358139038\n",
      "(7, 6) (7, 6) 0.2883918285369873 0.2883918285369873\n",
      "(7, 6) (7, 6) 0.8836695551872253 0.8836695551872253\n",
      "(6, 6) (7, 6) 0.3329331576824188 0.33378177881240845\n",
      "(7, 6) (7, 6) 0.9864586591720581 0.9864586591720581\n",
      "(7, 6) (7, 6) 0.8558001518249512 0.8558001518249512\n",
      "(7, 6) (7, 6) 0.3416290879249573 0.3416290879249573\n",
      "(7, 6) (7, 6) 0.18919116258621216 0.18919116258621216\n",
      "(6, 5) (7, 6) 1.1255500316619873 1.1322085857391357\n",
      "(7, 6) (7, 6) 0.28124091029167175 0.28124091029167175\n",
      "(7, 6) (7, 6) 0.6760918498039246 0.6760918498039246\n",
      "(7, 6) (7, 6) 0.34453511238098145 0.34453511238098145\n",
      "(7, 6) (7, 6) 0.4135798513889313 0.4135798513889313\n",
      "(7, 6) (7, 6) 0.24764840304851532 0.24764840304851532\n",
      "(7, 6) (7, 6) 0.159226194024086 0.159226194024086\n",
      "(7, 6) (7, 6) 0.23307383060455322 0.23307383060455322\n",
      "(7, 6) (7, 6) 1.1979714632034302 1.1979714632034302\n",
      "(7, 6) (7, 6) 0.2886033058166504 0.2886033058166504\n",
      "(7, 6) (7, 6) 0.5382902026176453 0.5382902026176453\n",
      "(7, 4) (7, 6) 1.9912773370742798 2.0024983882904053\n",
      "(7, 6) (7, 6) 0.1998605728149414 0.1998605728149414\n",
      "(6, 5) (7, 6) 0.6422884464263916 0.6856831908226013\n",
      "(6, 6) (7, 6) 0.9273032546043396 0.9310823082923889\n",
      "(7, 6) (7, 6) 0.42166897654533386 0.42166897654533386\n",
      "(7, 6) (7, 6) 0.5166695713996887 0.5166695713996887\n",
      "(7, 6) (7, 6) 2.0420989990234375 2.0420989990234375\n",
      "(7, 6) (7, 6) 0.30134063959121704 0.30134063959121704\n",
      "(7, 6) (7, 6) 1.6695680618286133 1.6695680618286133\n",
      "(7, 6) (7, 6) 0.854911744594574 0.854911744594574\n",
      "(7, 6) (7, 6) 1.154977560043335 1.154977560043335\n",
      "(6, 6) (7, 6) 0.2942701578140259 0.29542821645736694\n",
      "(7, 6) (7, 6) 0.2622368335723877 0.2622368335723877\n",
      "(7, 6) (7, 6) 0.4598408043384552 0.4598408043384552\n",
      "(7, 6) (7, 6) 0.4689686596393585 0.4689686596393585\n",
      "(7, 6) (7, 6) 0.23935264348983765 0.23935264348983765\n",
      "(7, 6) (7, 6) 0.5014718770980835 0.5014718770980835\n",
      "(7, 6) (7, 6) 0.28111547231674194 0.28111547231674194\n",
      "(7, 6) (7, 6) 0.30921900272369385 0.30921900272369385\n",
      "(7, 6) (7, 6) 0.9248673915863037 0.9248673915863037\n",
      "(7, 6) (7, 6) 0.14186616241931915 0.14186616241931915\n"
     ]
    }
   ],
   "source": [
    "with open('/nas2/YJ/DATA/ALS2DTM/splits/NB-test.tiles', 'r') as f :\n",
    "    lines = f.readlines()\n",
    "\n",
    "MAT_ROOT = '/nas2/YJ/DATA/ALS2DTM/NB'\n",
    "PRED_ROOT = '/nas2/YJ/git/DeepTerRa_pix2pix/results/bot-b32lr0.01e300-700/'\n",
    "\n",
    "RMSE = 0\n",
    "for line in lines :\n",
    "    str1, str2 = line.strip().split('_')\n",
    "    matfilename = 'nb_2018_{}00_{}00.mat'.format(str1, str2)\n",
    "    \n",
    "    matfile = os.path.join(MAT_ROOT, matfilename)\n",
    "    mat = sio.loadmat(matfile)\n",
    "    dtm = mat['dtm']\n",
    "    \n",
    "    npyfile = os.path.join(PRED_ROOT, matfilename.replace('mat', 'npy'))\n",
    "    pred = np.load(npyfile)\n",
    "    \n",
    "    RMSE += get_rmse(dtm, pred)"
   ]
  },
  {
   "cell_type": "code",
   "execution_count": 77,
   "id": "c5e70bcc-bb63-4f11-a666-b23e4a05c9e0",
   "metadata": {},
   "outputs": [
    {
     "data": {
      "text/plain": [
       "0.6658405732540857"
      ]
     },
     "execution_count": 77,
     "metadata": {},
     "output_type": "execute_result"
    }
   ],
   "source": [
    "RMSE / len(lines)"
   ]
  },
  {
   "cell_type": "code",
   "execution_count": 73,
   "id": "fcd0e80f-9d99-41a7-a7a0-afe0de6968b6",
   "metadata": {},
   "outputs": [
    {
     "name": "stdout",
     "output_type": "stream",
     "text": [
      "nb_2018_2537000_7369000.mat {'total': [2.55138, 248502], 'ground': [1.2538941, 0.36524454531553063], 'low_vegetation': [1.4484653, 0.04894125600598788], 'medium_vegetation': [1.2476892, 0.07455070784138558], 'high_vegetation': [3.3655488, 0.4328737796878898], 'building': [3.4824147, 0.06433751036208964], 'others': [1.5367869, 0.0140522007871164]}\n",
      "nb_2018_2613000_7402500.mat {'total': [0.19417623, 248502], 'ground': [0.10363722, 0.0003500977859333124], 'low_vegetation': [0.13493116, 0.0009698111081600952], 'medium_vegetation': [0.12800992, 0.0009939557830520478], 'high_vegetation': [0.1943046, 0.9976780870978905], 'building': [0, 0.0], 'others': [0.10499271, 8.048224963984193e-06]}\n",
      "nb_2018_2538000_7367000.mat {'total': [1.1636289, 248502], 'ground': [0.5568881, 0.1860991058422065], 'low_vegetation': [0.5497984, 0.15850576655318668], 'medium_vegetation': [0.91163963, 0.10018832846415723], 'high_vegetation': [1.3458325, 0.5379192119178116], 'building': [3.340525, 0.017098453935984418], 'others': [0.34762862, 0.00018913328665362853]}\n",
      "nb_2018_2614000_7402000.mat {'total': [0.28839183, 248502], 'ground': [0.21378735, 0.002406419264231274], 'low_vegetation': [0.19571343, 0.0017625612671125384], 'medium_vegetation': [0.22764292, 0.001830971179306404], 'high_vegetation': [0.28878775, 0.9939920000643858], 'building': [0, 0.0], 'others': [0.14602233, 8.048224963984193e-06]}\n",
      "nb_2018_2539500_7367000.mat {'total': [0.88366956, 248502], 'ground': [0.8233688, 0.2441952177447264], 'low_vegetation': [0.6151202, 0.1992740501082486], 'medium_vegetation': [1.0095257, 0.15853795945304264], 'high_vegetation': [0.7378436, 0.3684920040884983], 'building': [2.4994764, 0.0283096313108144], 'others': [0.85832286, 0.0011911372946696605]}\n",
      "nb_2018_2612000_7401500.mat {'total': [0.33378178, 248502], 'ground': [0.15269276, 0.0009698111081600952], 'low_vegetation': [0.12923388, 0.00045472471046510693], 'medium_vegetation': [0.28434458, 0.0017384165922205857], 'high_vegetation': [0.33404884, 0.9966881554273205], 'building': [0, 0.0], 'others': [0.37080792, 0.00014889216183370756]}\n",
      "nb_2018_2532000_7365500.mat {'total': [0.98645866, 248502], 'ground': [0.9976547, 0.17370483939767084], 'low_vegetation': [0.6864746, 0.12630079435980396], 'medium_vegetation': [0.6638086, 0.0735768726207435], 'high_vegetation': [1.048164, 0.6233672163604317], 'building': [2.7959633, 0.00299393968660212], 'others': [0.26356053, 5.633757474788935e-05]}\n",
      "nb_2018_2533000_7364500.mat {'total': [0.85580015, 248502], 'ground': [0.59355575, 0.35217825208650233], 'low_vegetation': [0.8106859, 0.12925851703406813], 'medium_vegetation': [0.6969384, 0.09294090188408946], 'high_vegetation': [1.1988627, 0.2736959863502105], 'building': [0.7485112, 0.151222122960781], 'others': [0.4199023, 0.0007042196843486169]}\n",
      "nb_2018_2531500_7365000.mat {'total': [0.34162912, 248502], 'ground': [0.26557925, 0.10206758899324754], 'low_vegetation': [0.33917487, 0.20126196167435273], 'medium_vegetation': [0.3144318, 0.1263812766094438], 'high_vegetation': [0.35812166, 0.5670698827373623], 'building': [0.60651964, 0.0030543013738320015], 'others': [0.27391464, 0.00016498861176167596]}\n",
      "nb_2018_2615500_7401500.mat {'total': [0.18919116, 248502], 'ground': [0.22692086, 0.061524655737177164], 'low_vegetation': [0.20688531, 0.02320303257116643], 'medium_vegetation': [0.21896672, 0.02030567158413212], 'high_vegetation': [0.18508592, 0.8949424954326324], 'building': [0, 0.0], 'others': [0.16144404, 2.414467489195258e-05]}\n",
      "nb_2018_2540000_7362500.mat {'total': [1.1322086, 248502], 'ground': [0.11522123, 0.2352898568220779], 'low_vegetation': [0.20720242, 0.03644638674940242], 'medium_vegetation': [0.37393403, 0.12898487738529268], 'high_vegetation': [0.42426303, 0.5663656630530136], 'building': [5.9716535, 0.03245044305478427], 'others': [0.22531357, 0.00046277293542909114]}\n",
      "nb_2018_2611000_7402000.mat {'total': [0.28124094, 248502], 'ground': [0.15316041, 0.0002535190863655021], 'low_vegetation': [0.11729663, 0.0002454708614015179], 'medium_vegetation': [0.17559446, 0.0004788693853570595], 'high_vegetation': [0.2813351, 0.9990181165543939], 'building': [0, 0.0], 'others': [0.39974976, 4.024112481992097e-06]}\n",
      "nb_2018_2537000_7368500.mat {'total': [0.67609185, 248502], 'ground': [0.49563932, 0.4573202630159918], 'low_vegetation': [0.49397808, 0.09635737338130075], 'medium_vegetation': [0.56667584, 0.10150421324576865], 'high_vegetation': [0.5238779, 0.22207467143121584], 'building': [1.3635036, 0.12244167048957352], 'others': [0.45888957, 0.00030180843614940726]}\n",
      "nb_2018_2611500_7400000.mat {'total': [0.34453514, 248502], 'ground': [0.15349676, 0.0007203161342765853], 'low_vegetation': [0.17098036, 0.0007726295965424826], 'medium_vegetation': [0.1670016, 0.00041045947316319386], 'high_vegetation': [0.34479135, 0.9980201366588599], 'building': [0, 0.0], 'others': [0.31820765, 7.645813715784983e-05]}\n",
      "nb_2018_2533500_7365000.mat {'total': [0.41357985, 248502], 'ground': [0.24077477, 0.247462797080104], 'low_vegetation': [0.2763223, 0.11679181656485663], 'medium_vegetation': [0.48660013, 0.10098107862310968], 'high_vegetation': [0.3921427, 0.4866600671221962], 'building': [1.0173006, 0.04736782802552897], 'others': [0.15153946, 0.0007364125842045536]}\n",
      "nb_2018_2615500_7400000.mat {'total': [0.2476484, 248502], 'ground': [0.23896432, 0.0008732324085922849], 'low_vegetation': [0.31798205, 0.001122727382475795], 'medium_vegetation': [0.4267112, 0.0007404366966865458], 'high_vegetation': [0.24738558, 0.9972515311747994], 'building': [0, 0.0], 'others': [0.08058586, 1.207233744597629e-05]}\n",
      "nb_2018_2614500_7401500.mat {'total': [0.1592262, 248502], 'ground': [0.100895226, 0.0027685893876105627], 'low_vegetation': [0.10753007, 0.00284102341228642], 'medium_vegetation': [0.12425655, 0.001166992619777708], 'high_vegetation': [0.15951979, 0.9932153463553614], 'building': [0, 0.0], 'others': [0.047807153, 8.048224963984193e-06]}\n",
      "nb_2018_2540500_7359500.mat {'total': [0.23307383, 248502], 'ground': [0.3231768, 0.020571263007943597], 'low_vegetation': [0.28500673, 0.012921425179676623], 'medium_vegetation': [0.31084028, 0.023468623994977907], 'high_vegetation': [0.22759974, 0.9429058921054961], 'building': [0, 0.0], 'others': [0.3204985, 0.0001327957119057392]}\n",
      "nb_2018_2539000_7362500.mat {'total': [1.1979715, 248502], 'ground': [0.69450396, 0.37730883453654296], 'low_vegetation': [0.47179636, 0.08975782891083371], 'medium_vegetation': [0.44389752, 0.058055870777699976], 'high_vegetation': [0.6596922, 0.44644308697716717], 'building': [6.0456376, 0.028108425686714796], 'others': [0.5023749, 0.00032595311104135984]}\n",
      "nb_2018_2540500_7358500.mat {'total': [0.28860334, 248502], 'ground': [0.20546621, 0.07414829659318638], 'low_vegetation': [0.22658199, 0.0431264134695093], 'medium_vegetation': [0.2804206, 0.12171733024281495], 'high_vegetation': [0.2997657, 0.7608791880950656], 'building': [0, 0.0], 'others': [0.17584962, 0.0001287715994237471]}\n",
      "nb_2018_2612500_7402500.mat {'total': [0.5382902, 248502], 'ground': [0.27102503, 0.012430483456873587], 'low_vegetation': [0.32362688, 0.04285277382073384], 'medium_vegetation': [0.47314182, 0.02911042969473083], 'high_vegetation': [0.550876, 0.9155499754529138], 'building': [0, 0.0], 'others': [0.16443282, 5.633757474788935e-05]}\n",
      "nb_2018_2534500_7364000.mat {'total': [2.0024984, 248502], 'ground': [0.3006445, 0.11988233495102656], 'low_vegetation': [0.3503066, 0.31178018687978365], 'medium_vegetation': [0.38786912, 0.12215998261583408], 'high_vegetation': [1.0127007, 0.16392222195394807], 'building': [3.662644, 0.2812090043540897], 'others': [1.3845534, 0.001046269245317945]}\n",
      "nb_2018_2613000_7400000.mat {'total': [0.19986059, 248502], 'ground': [0.13020314, 0.001162968507295716], 'low_vegetation': [0.17166443, 0.0025190944137270526], 'medium_vegetation': [0.17270222, 0.0012917401067194631], 'high_vegetation': [0.20002969, 0.9949779076224738], 'building': [0, 0.0], 'others': [0.13197023, 4.828934978390516e-05]}\n",
      "nb_2018_2540500_7360000.mat {'total': [0.6856832, 248502], 'ground': [0.2915659, 0.08767333864516182], 'low_vegetation': [0.33978018, 0.024844870463819203], 'medium_vegetation': [0.33245942, 0.0418024804629339], 'high_vegetation': [0.7337068, 0.8456149246283732], 'building': [0, 0.0], 'others': [0.22930056, 6.438579971187355e-05]}\n",
      "nb_2018_2540500_7357500.mat {'total': [0.9310824, 248502], 'ground': [1.0261834, 0.10401525943453171], 'low_vegetation': [0.73923385, 0.02487706336367514], 'medium_vegetation': [0.9230037, 0.03488905521887148], 'high_vegetation': [0.9086244, 0.8328786086228682], 'building': [2.9094026, 0.003122711286025867], 'others': [0.18451984, 0.00021730207402757322]}\n",
      "nb_2018_2539500_7361500.mat {'total': [0.42166898, 248502], 'ground': [0.22488111, 0.1257172980499151], 'low_vegetation': [0.21720836, 0.09531915236094679], 'medium_vegetation': [0.49693397, 0.09073971235643978], 'high_vegetation': [0.45573202, 0.6874673040860838], 'building': [1.8740824, 0.00049898994776702], 'others': [0.18234974, 0.0002575431988474942]}\n",
      "nb_2018_2536500_7367500.mat {'total': [0.5166696, 248502], 'ground': [0.24278133, 0.578421904049062], 'low_vegetation': [0.3621279, 0.06738778762343965], 'medium_vegetation': [0.31779936, 0.10115009134735334], 'high_vegetation': [0.33732212, 0.09664710948000418], 'building': [1.1397694, 0.1544856781836766], 'others': [1.0530981, 0.0019074293164642539]}\n",
      "nb_2018_2538000_7369000.mat {'total': [2.0420992, 248502], 'ground': [1.8233376, 0.36258058285245187], 'low_vegetation': [1.2936379, 0.08212006342001271], 'medium_vegetation': [1.3706, 0.08853047460382613], 'high_vegetation': [2.5205898, 0.39015380157906177], 'building': [1.5327972, 0.07614023227177245], 'others': [2.648029, 0.00047484527287506743]}\n",
      "nb_2018_2611500_7401500.mat {'total': [0.3013406, 248502], 'ground': [0.30426005, 0.00023742263643753371], 'low_vegetation': [0.3657194, 0.0003380254484873361], 'medium_vegetation': [0.28539863, 0.00074848492165053], 'high_vegetation': [0.30132744, 0.9986760669934246], 'building': [0, 0.0], 'others': [0, 0.0]}\n",
      "nb_2018_2538000_7368500.mat {'total': [1.6695681, 248502], 'ground': [2.2326825, 0.36276166791414155], 'low_vegetation': [1.3539423, 0.12915389010953635], 'medium_vegetation': [0.9597384, 0.09900926350693355], 'high_vegetation': [1.2635992, 0.3498402427344649], 'building': [1.2535256, 0.058836548599206444], 'others': [0.60276866, 0.00039838713571721757]}\n",
      "nb_2018_2539000_7363500.mat {'total': [0.85491174, 248502], 'ground': [0.6108458, 0.4376302806416045], 'low_vegetation': [0.606481, 0.07838568703672405], 'medium_vegetation': [0.81900847, 0.07223684316424013], 'high_vegetation': [0.41987634, 0.376793748138848], 'building': [3.4941058, 0.03465565669491594], 'others': [1.6008962, 0.00029778432366741513]}\n",
      "nb_2018_2536500_7365500.mat {'total': [1.1549776, 248502], 'ground': [0.14402045, 0.2816315361646989], 'low_vegetation': [0.1532878, 0.24374451714674328], 'medium_vegetation': [0.20382963, 0.07970962004329946], 'high_vegetation': [0.57175577, 0.23822745893393213], 'building': [2.8204193, 0.15603093737676155], 'others': [0.1971009, 0.0006559303345647118]}\n",
      "nb_2018_2613000_7401500.mat {'total': [0.29542825, 248502], 'ground': [0.1403051, 0.0009778593331240795], 'low_vegetation': [0.14806023, 0.0006076409847808066], 'medium_vegetation': [0.16520506, 0.0008168948338443956], 'high_vegetation': [0.29569134, 0.9975935807357688], 'building': [0, 0.0], 'others': [0.011779785, 4.024112481992097e-06]}\n",
      "nb_2018_2612500_7400500.mat {'total': [0.26223683, 248502], 'ground': [0.14251052, 0.0002776637612574547], 'low_vegetation': [0.15350427, 0.0003420495609693282], 'medium_vegetation': [0.14034761, 0.0004265559230911622], 'high_vegetation': [0.2623319, 0.998945682529718], 'building': [0, 0.0], 'others': [0.26891991, 8.048224963984193e-06]}\n",
      "nb_2018_2537000_7367500.mat {'total': [0.45984077, 248502], 'ground': [0.43828475, 0.235744581532543], 'low_vegetation': [0.4211586, 0.379312842552575], 'medium_vegetation': [0.36432981, 0.10995082534547006], 'high_vegetation': [0.36782673, 0.13077963155226116], 'building': [0.6798251, 0.144099443867655], 'others': [0.1423939, 0.0001126751494957787]}\n",
      "nb_2018_2535500_7367500.mat {'total': [0.4689686, 248502], 'ground': [0.38162053, 0.03652686899904226], 'low_vegetation': [0.37240452, 0.018623592566659422], 'medium_vegetation': [0.44261023, 0.02222517323804235], 'high_vegetation': [0.47445557, 0.9225358347216521], 'building': [0, 0.0], 'others': [0.23572604, 8.853047460382612e-05]}\n",
      "nb_2018_2615500_7402000.mat {'total': [0.23935264, 248502], 'ground': [0.16548161, 0.0046357775792548956], 'low_vegetation': [0.13820936, 0.007891284577186502], 'medium_vegetation': [0.21606366, 0.005082454064756018], 'high_vegetation': [0.24040182, 0.9823743873288746], 'building': [0, 0.0], 'others': [0.14364283, 1.6096449927968387e-05]}\n",
      "nb_2018_2536500_7366000.mat {'total': [0.5014719, 248502], 'ground': [0.14003669, 0.4034575174445276], 'low_vegetation': [0.19159311, 0.03806005585468125], 'medium_vegetation': [0.1985974, 0.05486877369196224], 'high_vegetation': [0.24311733, 0.422620341083774], 'building': [1.634628, 0.08046615318991396], 'others': [0.17023659, 0.0005271587351409646]}\n",
      "nb_2018_2539000_7358500.mat {'total': [0.28111547, 248502], 'ground': [0.19440748, 0.02428149471634031], 'low_vegetation': [0.19034627, 0.031106389485798906], 'medium_vegetation': [0.31516486, 0.026768396230211426], 'high_vegetation': [0.28455874, 0.9178316472302034], 'building': [0, 0.0], 'others': [0.41704887, 1.207233744597629e-05]}\n",
      "nb_2018_2540000_7363500.mat {'total': [0.309219, 248502], 'ground': [0.16290858, 0.32359900523939444], 'low_vegetation': [0.23613396, 0.09909779398153737], 'medium_vegetation': [0.29014406, 0.16295643495826995], 'high_vegetation': [0.3225303, 0.3827896757370162], 'building': [0.9477796, 0.031086268923388945], 'others': [0.2917631, 0.0004708211603930753]}\n",
      "nb_2018_2540500_7361000.mat {'total': [0.9248674, 248502], 'ground': [0.9559834, 0.10995887357043405], 'low_vegetation': [0.8586375, 0.02775430378829949], 'medium_vegetation': [0.6134672, 0.033693893811719826], 'high_vegetation': [0.93333435, 0.8285285430298348], 'building': [0, 0.0], 'others': [0.22471602, 6.438579971187355e-05]}\n",
      "nb_2018_2614500_7400500.mat {'total': [0.14186616, 248502], 'ground': [0.14923011, 0.0006881232344206485], 'low_vegetation': [0.13307156, 0.0011428479448857554], 'medium_vegetation': [0.1264008, 0.005597540462451006], 'high_vegetation': [0.1419536, 0.9925553919083147], 'building': [0, 0.0], 'others': [0.111546084, 1.6096449927968387e-05]}\n"
     ]
    }
   ],
   "source": []
  },
  {
   "cell_type": "code",
   "execution_count": 63,
   "id": "7edc7ccd-1a25-4609-87a6-cadbf6ab833c",
   "metadata": {},
   "outputs": [
    {
     "data": {
      "text/plain": [
       "dict_keys(['__header__', '__version__', '__globals__', 'dtm', 'voxel-top', 'semantics', 'voxel-bottom', 'pixel-mean', 'density', 'stdev', 'echoes'])"
      ]
     },
     "execution_count": 63,
     "metadata": {},
     "output_type": "execute_result"
    }
   ],
   "source": [
    "mat.keys()"
   ]
  },
  {
   "cell_type": "code",
   "execution_count": 25,
   "id": "53d16745-6073-42bc-8f2c-a6118d9b1567",
   "metadata": {},
   "outputs": [],
   "source": [
    "\n"
   ]
  },
  {
   "cell_type": "code",
   "execution_count": 26,
   "id": "009a8ba4-9b91-4683-b0ee-df39bcaa5af0",
   "metadata": {},
   "outputs": [
    {
     "data": {
      "text/plain": [
       "(498, 499)"
      ]
     },
     "execution_count": 26,
     "metadata": {},
     "output_type": "execute_result"
    }
   ],
   "source": [
    "pred[left:left+h, top: top+w].shape"
   ]
  },
  {
   "cell_type": "code",
   "execution_count": 54,
   "id": "d25dd299-ac3a-4848-96c6-e7764e2f0597",
   "metadata": {},
   "outputs": [
    {
     "name": "stdout",
     "output_type": "stream",
     "text": [
      "(0, 2) 2.6039645671844482 2.766711950302124\n"
     ]
    }
   ],
   "source": []
  },
  {
   "cell_type": "code",
   "execution_count": 51,
   "id": "796452fb-afb1-4ebd-bec9-1805194a0b27",
   "metadata": {},
   "outputs": [
    {
     "data": {
      "text/plain": [
       "(array([0]), array([2]))"
      ]
     },
     "execution_count": 51,
     "metadata": {},
     "output_type": "execute_result"
    }
   ],
   "source": [
    "np.where(results == results.min())"
   ]
  },
  {
   "cell_type": "code",
   "execution_count": 50,
   "id": "35fa6e49-4e6f-47ce-85b9-41540d061269",
   "metadata": {},
   "outputs": [
    {
     "data": {
      "text/plain": [
       "2.6039645671844482"
      ]
     },
     "execution_count": 50,
     "metadata": {},
     "output_type": "execute_result"
    }
   ],
   "source": [
    "results.min()"
   ]
  },
  {
   "cell_type": "code",
   "execution_count": 52,
   "id": "ee186c94-7084-4334-9a1c-d29f551f70c0",
   "metadata": {},
   "outputs": [
    {
     "data": {
      "text/plain": [
       "2"
      ]
     },
     "execution_count": 52,
     "metadata": {},
     "output_type": "execute_result"
    }
   ],
   "source": [
    "results.argmin()"
   ]
  },
  {
   "cell_type": "code",
   "execution_count": 53,
   "id": "70bf55f7-89fd-4906-b315-bc41d4fb548a",
   "metadata": {},
   "outputs": [
    {
     "data": {
      "text/plain": [
       "(0, 2)"
      ]
     },
     "execution_count": 53,
     "metadata": {},
     "output_type": "execute_result"
    }
   ],
   "source": []
  },
  {
   "cell_type": "code",
   "execution_count": null,
   "id": "b947fece-41ab-4654-8d53-967f4dfd5279",
   "metadata": {},
   "outputs": [],
   "source": []
  },
  {
   "cell_type": "code",
   "execution_count": null,
   "id": "45c33e49-e6d7-4c3c-9c18-8ca3d67aee16",
   "metadata": {},
   "outputs": [],
   "source": []
  },
  {
   "cell_type": "code",
   "execution_count": null,
   "id": "91fa2c70-b961-4c2c-8c42-d4dac171ca6e",
   "metadata": {},
   "outputs": [],
   "source": [
    "GT_PATH = '/nas2/YJ/DATA/ALS2DTM/NB/Top/test/dtm'\n",
    "SEG_PATH = '/nas2/YJ/DATA/ALS2DTM/NB/Top/test/seg'\n",
    "PRED_PATH = '/nas2/YJ/git/ALS2DTM/results/top_tanh_crop_flip_b32_lr0.01_e1000//'\n",
    "\n",
    "filenames = [f for f in os.listdir(GT_PATH) if 'npy' in f]\n",
    "keys = ['ground', 'low_vegetation', 'medium_vegetation', 'high_vegetation', 'building', 'others']\n",
    "\n",
    "for filename in filenames[:10] :\n",
    "    #mat = sio.loadmat(os.path.join(NB_ROOT, filename))\n",
    "    seg = np.load(os.path.join(SEG_PATH, filename))[0,6:-6,6:-6]\n",
    "    \n",
    "    gt = np.load(os.path.join(GT_PATH, filename))[0,6:-6,6:-6]\n",
    "    pred = np.load(os.path.join(PRED_PATH, filename))[0,6:-6,6:-6]\n",
    "    \n",
    "    result_dict = get_RMSE(keys, seg, pred, gt)\n",
    "    print (filename, result_dict)"
   ]
  },
  {
   "cell_type": "code",
   "execution_count": null,
   "id": "6c333b56-4aee-45bd-b1b8-bfdd47472064",
   "metadata": {},
   "outputs": [],
   "source": []
  }
 ],
 "metadata": {
  "kernelspec": {
   "display_name": "Python 3 (ipykernel)",
   "language": "python",
   "name": "python3"
  },
  "language_info": {
   "codemirror_mode": {
    "name": "ipython",
    "version": 3
   },
   "file_extension": ".py",
   "mimetype": "text/x-python",
   "name": "python",
   "nbconvert_exporter": "python",
   "pygments_lexer": "ipython3",
   "version": "3.8.13"
  }
 },
 "nbformat": 4,
 "nbformat_minor": 5
}
